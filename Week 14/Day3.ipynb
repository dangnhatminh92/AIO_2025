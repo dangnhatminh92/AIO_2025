{
 "cells": [
  {
   "cell_type": "code",
   "execution_count": 27,
   "metadata": {},
   "outputs": [],
   "source": [
    "# Bài 1: Tìm vị trí phần tử\n",
    "\n",
    "def binary_search(arr, value):\n",
    "    left = 0\n",
    "    right = len(arr) - 1\n",
    "    while left <= right:\n",
    "        mid = (left + right) // 2\n",
    "        if arr[mid] == value:\n",
    "            return mid\n",
    "        elif arr[mid] < value:\n",
    "            left = mid + 1\n",
    "        else:\n",
    "            right = mid - 1\n",
    "    return -1"
   ]
  },
  {
   "cell_type": "code",
   "execution_count": 28,
   "metadata": {},
   "outputs": [
    {
     "name": "stdout",
     "output_type": "stream",
     "text": [
      "Vị trí của phần tử 2 trong mảng là: -1\n",
      "Vị trí của phần tử 9 trong mảng là: 4\n"
     ]
    }
   ],
   "source": [
    "arr = [1, 3, 5, 7, 9]\n",
    "x = 2\n",
    "y = 9\n",
    "searching_result = binary_search(arr, x)\n",
    "searching_result_y = binary_search(arr, y)\n",
    "print(f\"Vị trí của phần tử {x} trong mảng là: {searching_result}\")\n",
    "print(f\"Vị trí của phần tử {y} trong mảng là: {searching_result_y}\")"
   ]
  },
  {
   "cell_type": "code",
   "execution_count": 20,
   "metadata": {},
   "outputs": [],
   "source": [
    "# Bài 2: Tìm phần tử đầu tiên xuất hiện\n",
    "def first_occurrence(arr, value):\n",
    "    left = 0\n",
    "    right = len(arr) - 1\n",
    "    result = -1\n",
    "    while left <= right:\n",
    "        mid = (left + right) // 2\n",
    "        if arr[mid] == value:\n",
    "            result = mid\n",
    "            right = mid - 1\n",
    "        elif arr[mid] < value:\n",
    "            left = mid + 1\n",
    "        else:\n",
    "            right = mid - 1\n",
    "    return result\n"
   ]
  },
  {
   "cell_type": "code",
   "execution_count": 22,
   "metadata": {},
   "outputs": [
    {
     "name": "stdout",
     "output_type": "stream",
     "text": [
      "Vị trí phần tử đầu tiên 1 xuất hiện trong mảng là: 0\n"
     ]
    }
   ],
   "source": [
    "arr3 = [1, 1, 2, 4, 4, 4, 5]\n",
    "z = 1\n",
    "first_occurrence_result = first_occurrence(arr3, z)\n",
    "print(f\"Vị trí phần tử đầu tiên {z} xuất hiện trong mảng là: {first_occurrence_result}\")\n"
   ]
  },
  {
   "cell_type": "code",
   "execution_count": 24,
   "metadata": {},
   "outputs": [],
   "source": [
    "# Bài 3: Tìm phần tử nhỏ nhất ≥ x\n",
    "def find_min_greater_than_x(arr, x):\n",
    "    left = 0\n",
    "    right = len(arr) - 1\n",
    "    result = -1\n",
    "    while left <= right:\n",
    "        mid = (left + right) // 2\n",
    "        if arr[mid] >= x:\n",
    "            result = mid\n",
    "            right = mid - 1\n",
    "        else:\n",
    "            left = mid + 1\n",
    "    return result\n"
   ]
  },
  {
   "cell_type": "code",
   "execution_count": 26,
   "metadata": {},
   "outputs": [
    {
     "name": "stdout",
     "output_type": "stream",
     "text": [
      "Phần tử nhỏ nhất ≥ 6 trong mảng là: 3\n",
      "Phần tử nhỏ nhất ≥ 10 trong mảng là: -1\n"
     ]
    }
   ],
   "source": [
    "arr4 = [1, 3, 5, 7, 9]\n",
    "x = 6\n",
    "y = 10\n",
    "min_greater_than_x_result = find_min_greater_than_x(arr4, x)\n",
    "print(f\"Phần tử nhỏ nhất ≥ {x} trong mảng là: {min_greater_than_x_result}\")\n",
    "min_greater_than_y_result_y = find_min_greater_than_x(arr4, y)\n",
    "print(f\"Phần tử nhỏ nhất ≥ {y} trong mảng là: {min_greater_than_y_result_y}\")"
   ]
  },
  {
   "cell_type": "code",
   "execution_count": 33,
   "metadata": {},
   "outputs": [],
   "source": [
    "def binary_search_recursive(arr, low, high, search_value, count=0):\n",
    "    # Nếu không tìm thấy\n",
    "    if low > high:\n",
    "        print(f\"Số lần gọi đệ quy: {count}\")\n",
    "        return -1\n",
    "\n",
    "    # Tăng số lần đệ quy\n",
    "    count += 1\n",
    "\n",
    "    mid = low + (high - low) // 2\n",
    "\n",
    "    if arr[mid] == search_value:\n",
    "        print(f\"Số lần gọi đệ quy: {count}\")\n",
    "        return mid\n",
    "    elif arr[mid] > search_value:\n",
    "        return binary_search_recursive(arr, low, mid - 1, search_value, count)\n",
    "    else:\n",
    "        return binary_search_recursive(arr, mid + 1, high, search_value, count)\n"
   ]
  },
  {
   "cell_type": "code",
   "execution_count": 34,
   "metadata": {},
   "outputs": [
    {
     "name": "stdout",
     "output_type": "stream",
     "text": [
      "Số lần gọi đệ quy: 3\n",
      "Vị trí tìm thấy: 4\n"
     ]
    }
   ],
   "source": [
    "arr = [1, 3, 5, 7, 9, 11, 13]\n",
    "x = 9\n",
    "result = binary_search_recursive(arr, 0, len(arr) - 1, x)\n",
    "print(f\"Vị trí tìm thấy: {result}\")\n"
   ]
  },
  {
   "cell_type": "code",
   "execution_count": null,
   "metadata": {},
   "outputs": [],
   "source": []
  },
  {
   "cell_type": "code",
   "execution_count": null,
   "metadata": {},
   "outputs": [],
   "source": []
  }
 ],
 "metadata": {
  "kernelspec": {
   "display_name": ".venv",
   "language": "python",
   "name": "python3"
  },
  "language_info": {
   "codemirror_mode": {
    "name": "ipython",
    "version": 3
   },
   "file_extension": ".py",
   "mimetype": "text/x-python",
   "name": "python",
   "nbconvert_exporter": "python",
   "pygments_lexer": "ipython3",
   "version": "3.12.3"
  }
 },
 "nbformat": 4,
 "nbformat_minor": 2
}
