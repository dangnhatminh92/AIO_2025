{
 "cells": [
  {
   "cell_type": "code",
   "execution_count": 6,
   "metadata": {},
   "outputs": [],
   "source": [
    "#Bài tập 1: Sắp xếp tăng dần\n",
    "def bubble_sort(arr):\n",
    "    n =len(arr)\n",
    "    step = 1\n",
    "    for i in range(n - 1):\n",
    "        swap = False\n",
    "        for j in range(0, n - i - 1):\n",
    "            print(f\"Step: {step}\")\n",
    "            step += 1\n",
    "            if arr[j] > arr[j + 1]:\n",
    "                swap = True\n",
    "                arr[j], arr[j + 1] = arr[j + 1], arr[j]\n",
    "        if not swap:\n",
    "            break\n",
    "    return arr"
   ]
  },
  {
   "cell_type": "code",
   "execution_count": 7,
   "metadata": {},
   "outputs": [
    {
     "name": "stdout",
     "output_type": "stream",
     "text": [
      "Step: 1\n",
      "Step: 2\n",
      "Step: 3\n",
      "Step: 4\n",
      "Step: 5\n",
      "Step: 6\n",
      "Step: 7\n",
      "Step: 8\n",
      "Step: 9\n",
      "Step: 10\n",
      "[2, 3, 4, 5, 8]\n"
     ]
    }
   ],
   "source": [
    "arr = [5, 3, 8, 4, 2]\n",
    "arr1 = bubble_sort(arr)\n",
    "print(arr1)"
   ]
  },
  {
   "cell_type": "code",
   "execution_count": 8,
   "metadata": {},
   "outputs": [],
   "source": [
    "# Bài tập 2: Sắp xếp giảm dần\n",
    "def bubble_reverse(arr):\n",
    "    n =len(arr)\n",
    "    step = 1\n",
    "    for i in range(n - 1):\n",
    "        swap = False\n",
    "        for j in range(0, n - i - 1):\n",
    "            print(f\"Step: {step}\")\n",
    "            step += 1\n",
    "            if arr[j] < arr[j + 1]:\n",
    "                swap = True\n",
    "                arr[j], arr[j + 1] = arr[j + 1], arr[j]\n",
    "        if not swap:\n",
    "            break\n",
    "    return arr"
   ]
  },
  {
   "cell_type": "code",
   "execution_count": 9,
   "metadata": {},
   "outputs": [
    {
     "name": "stdout",
     "output_type": "stream",
     "text": [
      "Step: 1\n",
      "Step: 2\n",
      "Step: 3\n",
      "Step: 4\n",
      "Step: 5\n",
      "Step: 6\n",
      "Step: 7\n",
      "Step: 8\n",
      "Step: 9\n",
      "[8, 5, 4, 3, 2]\n"
     ]
    }
   ],
   "source": [
    "arr = [5, 3, 8, 4, 2]\n",
    "arr2 = bubble_reverse(arr)\n",
    "print(arr2)"
   ]
  },
  {
   "cell_type": "code",
   "execution_count": 12,
   "metadata": {},
   "outputs": [],
   "source": [
    "# Bài tập 3: Đếm số lần hoán đổi\n",
    "def bubble_sort_count(arr):\n",
    "    n =len(arr)\n",
    "    count = 0\n",
    "    for i in range(n - 1):\n",
    "        swap = False\n",
    "        for j in range(0, n - i - 1):\n",
    "            if arr[j] > arr[j + 1]:\n",
    "                swap = True\n",
    "                arr[j], arr[j + 1] = arr[j + 1], arr[j]\n",
    "                count += 1\n",
    "        if not swap:\n",
    "            break\n",
    "    return count"
   ]
  },
  {
   "cell_type": "code",
   "execution_count": 14,
   "metadata": {},
   "outputs": [
    {
     "name": "stdout",
     "output_type": "stream",
     "text": [
      "Number of swaps: 6\n"
     ]
    }
   ],
   "source": [
    "arr = [4, 3, 2, 1]\n",
    "count = bubble_sort_count(arr)\n",
    "print(f\"Number of swaps: {count}\")"
   ]
  },
  {
   "cell_type": "code",
   "execution_count": 16,
   "metadata": {},
   "outputs": [
    {
     "name": "stdout",
     "output_type": "stream",
     "text": [
      "True\n",
      "False\n"
     ]
    }
   ],
   "source": [
    "# Bài tập 4: Kiểm tra đã sắp xếp\n",
    "def check_sorted_ascending(arr):\n",
    "    for i in range(len(arr) - 1):\n",
    "        if arr[i] > arr[i + 1]:\n",
    "            return False\n",
    "    return True\n",
    "def check_sorted_descending(arr):\n",
    "    for i in range(len(arr) - 1):\n",
    "        if arr[i] < arr[i + 1]:\n",
    "            return False\n",
    "    return True\n",
    "arr = [1, 2, 3, 4]\n",
    "print(check_sorted_ascending(arr))\n",
    "print(check_sorted_descending(arr))\n",
    "\n"
   ]
  }
 ],
 "metadata": {
  "kernelspec": {
   "display_name": ".venv",
   "language": "python",
   "name": "python3"
  },
  "language_info": {
   "codemirror_mode": {
    "name": "ipython",
    "version": 3
   },
   "file_extension": ".py",
   "mimetype": "text/x-python",
   "name": "python",
   "nbconvert_exporter": "python",
   "pygments_lexer": "ipython3",
   "version": "3.12.3"
  }
 },
 "nbformat": 4,
 "nbformat_minor": 2
}
