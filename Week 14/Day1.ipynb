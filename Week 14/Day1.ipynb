{
 "cells": [
  {
   "cell_type": "code",
   "execution_count": 2,
   "metadata": {},
   "outputs": [],
   "source": [
    "#Bài 1: Tìm chỉ số đầu tiên\n",
    "def linear_search(arr, x):\n",
    "    for i in range(len(arr)):\n",
    "        if arr[i] == x:\n",
    "            return i\n",
    "    return -1"
   ]
  },
  {
   "cell_type": "code",
   "execution_count": 3,
   "metadata": {},
   "outputs": [
    {
     "name": "stdout",
     "output_type": "stream",
     "text": [
      "Index of 6 is 2\n",
      "Index of 2 is -1\n"
     ]
    }
   ],
   "source": [
    "arr = [2, 4, 6, 8, 10]\n",
    "x = 6\n",
    "print(f\"Index of {x} is {linear_search(arr, x)}\")\n",
    "\n",
    "arr = [1, 3, 5, 7]\n",
    "x = 2\n",
    "print(f\"Index of {x} is {linear_search(arr, x)}\")"
   ]
  },
  {
   "cell_type": "code",
   "execution_count": 4,
   "metadata": {},
   "outputs": [],
   "source": [
    "#Bài 2: Tìm tất cả các chỉ số\n",
    "def list_index(arr, x):\n",
    "    list = []\n",
    "    for i in range(len(arr)):\n",
    "        if arr[i] == x:\n",
    "            list.append(i)\n",
    "    return list"
   ]
  },
  {
   "cell_type": "code",
   "execution_count": 6,
   "metadata": {},
   "outputs": [
    {
     "name": "stdout",
     "output_type": "stream",
     "text": [
      "Index of 2 is [1, 3, 5]\n"
     ]
    }
   ],
   "source": [
    "arr = [1, 2, 3, 2, 4, 2]\n",
    "x = 2\n",
    "print(f\"Index of {x} is {list_index(arr, x)}\")"
   ]
  },
  {
   "cell_type": "code",
   "execution_count": 7,
   "metadata": {},
   "outputs": [],
   "source": [
    "#Bài 3: Tìm phần tử lớn hơn x\n",
    "def find_greater_x(arr, x):\n",
    "    list = []\n",
    "    for i in range(len(arr)):\n",
    "        if arr[i] > x:\n",
    "            list.append(arr[i])\n",
    "    return list"
   ]
  },
  {
   "cell_type": "code",
   "execution_count": 8,
   "metadata": {},
   "outputs": [
    {
     "name": "stdout",
     "output_type": "stream",
     "text": [
      "Elements greater than 2 are [3, 4]\n"
     ]
    }
   ],
   "source": [
    "arr = [1, 2, 3, 2, 4, 2]\n",
    "x = 2\n",
    "print(f\"Elements greater than {x} are {find_greater_x(arr, x)}\")"
   ]
  },
  {
   "cell_type": "code",
   "execution_count": 10,
   "metadata": {},
   "outputs": [
    {
     "name": "stdout",
     "output_type": "stream",
     "text": [
      "First element divisible by 3 is -1\n"
     ]
    }
   ],
   "source": [
    "#Bài 4: Tìm phần tử đầu tiên chia hết cho 3\n",
    "def first_element(arr):\n",
    "    for i in range(len(arr)):\n",
    "        if arr[i] % 3 == 0:\n",
    "            return arr[i]\n",
    "    return -1\n",
    "arr = [1, 2, 4, 5]\n",
    "print(f\"First element divisible by 3 is {first_element(arr)}\")"
   ]
  }
 ],
 "metadata": {
  "kernelspec": {
   "display_name": ".venv",
   "language": "python",
   "name": "python3"
  },
  "language_info": {
   "codemirror_mode": {
    "name": "ipython",
    "version": 3
   },
   "file_extension": ".py",
   "mimetype": "text/x-python",
   "name": "python",
   "nbconvert_exporter": "python",
   "pygments_lexer": "ipython3",
   "version": "3.12.3"
  }
 },
 "nbformat": 4,
 "nbformat_minor": 2
}
