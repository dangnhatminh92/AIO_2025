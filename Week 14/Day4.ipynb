{
 "cells": [
  {
   "cell_type": "code",
   "execution_count": 13,
   "metadata": {},
   "outputs": [
    {
     "name": "stdout",
     "output_type": "stream",
     "text": [
      " Vi tri tu khoa 'diagnosis' can tim kiem la : 2\n"
     ]
    }
   ],
   "source": [
    "# Bài 1.1 – Tìm prompt chứa từ khoá\n",
    "def find_prompt_with_keyword (prompts,keyword):\n",
    "    split_prompt = [ doc.split() for doc in prompts]\n",
    "    for i,doc in enumerate(split_prompt):\n",
    "        if keyword in doc:\n",
    "            return i\n",
    "    return -1\n",
    "\n",
    "\n",
    "prompts = [\"Generate a report for patient X.\" ,\n",
    "           \"Summarize the input text.\" ,\n",
    "           \"Suggest a diagnosis based on symptoms \" ,\n",
    "           \"Translate this to French.\"\n",
    "           ]\n",
    "keyword = \"diagnosis\"\n",
    "print(f\" Vi tri tu khoa '{keyword}' can tim kiem la : {find_prompt_with_keyword(prompts ,\"diagnosis\" )}\")"
   ]
  },
  {
   "cell_type": "code",
   "execution_count": 16,
   "metadata": {},
   "outputs": [],
   "source": [
    "# Bài 1.2 – Tìm mẫu ảnh chưa có annotation\n",
    "def find_first_unlabeled ( images ) :\n",
    "    for i,image in enumerate(images):\n",
    "        if image['label'] is None:\n",
    "            return i\n",
    "    return -1"
   ]
  },
  {
   "cell_type": "code",
   "execution_count": 18,
   "metadata": {},
   "outputs": [
    {
     "name": "stdout",
     "output_type": "stream",
     "text": [
      " Vi tri anh chua co annotation la : 1\n"
     ]
    }
   ],
   "source": [
    "images = [\n",
    "    { 'name' : 'img1.png' , 'label' : 'benign' } ,\n",
    "    { 'name' : 'img2.png' , 'label' : None } ,\n",
    "    { 'name' : 'img3.png' , 'label' : 'malignant' }\n",
    "]\n",
    "print(f\" Vi tri anh chua co annotation la : {find_first_unlabeled(images)}\")"
   ]
  },
  {
   "cell_type": "code",
   "execution_count": 21,
   "metadata": {},
   "outputs": [],
   "source": [
    "# Bài 2.1 – Sắp xếp ảnh theo độ mờ\n",
    "def sort_by_blurriness(images) :\n",
    "    return sorted(images, key=lambda x: x['blurriness'])\n",
    "image_data = [\n",
    " { 'name' : 'img1' , 'blurriness' : 0.8} ,\n",
    " { 'name' : 'img2' , 'blurriness' : 0.3} ,\n",
    " { 'name' : 'img3' , 'blurriness' : 0.5}\n",
    " ]\n"
   ]
  },
  {
   "cell_type": "code",
   "execution_count": 23,
   "metadata": {},
   "outputs": [
    {
     "name": "stdout",
     "output_type": "stream",
     "text": [
      " Output: ['img2', 'img3', 'img1']\n"
     ]
    }
   ],
   "source": [
    "sorted_imgs = sort_by_blurriness(image_data)\n",
    "print (f\" Output: { [img['name'] for img in sorted_imgs ]}\")"
   ]
  },
  {
   "cell_type": "code",
   "execution_count": 24,
   "metadata": {},
   "outputs": [],
   "source": [
    "# Bài 2.2 – Sắp xếp mô hình theo độ chính xác\n",
    "def sort_models_by_accuracy(models , accuracies) :\n",
    "    zipped = zip(models,accuracies)\n",
    "    sorted_zipped = sorted(zipped,key=lambda x: x[1],reverse=True)\n",
    "    return [x[0] for x in sorted_zipped]"
   ]
  },
  {
   "cell_type": "code",
   "execution_count": 25,
   "metadata": {},
   "outputs": [
    {
     "name": "stdout",
     "output_type": "stream",
     "text": [
      " Output: [' ModelB ', ' ModelC ', ' ModelA ']\n"
     ]
    }
   ],
   "source": [
    "models = [ \" ModelA \" , \" ModelB \" , \" ModelC \" ]\n",
    "accuracies = [0.89 , 0.93 , 0.91]\n",
    "print(f\" Output: {sort_models_by_accuracy(models , accuracies )}\")"
   ]
  },
  {
   "cell_type": "code",
   "execution_count": 30,
   "metadata": {},
   "outputs": [
    {
     "name": "stdout",
     "output_type": "stream",
     "text": [
      "Output: 4\n"
     ]
    }
   ],
   "source": [
    "# Bài 2.3 – Đếm số lần hoán đổi theo loss\n",
    "def bubble_sort_with_count(arr):\n",
    "    count = 0\n",
    "    swapped = False\n",
    "    for i in range(len(arr) - 1):\n",
    "        for j in range(len(arr)-i-1):\n",
    "            if arr[j] > arr[j+1]:\n",
    "                swapped = True\n",
    "                count += 1\n",
    "                arr[j],arr[j+1] = arr[j+1],arr[j]\n",
    "        if not swapped:\n",
    "            break\n",
    "    return count\n",
    "\n",
    "losses = [0.4 , 0.3 , 0.5 , 0.2]\n",
    "\n",
    "print (f\"Output: {bubble_sort_with_count(losses)}\")"
   ]
  },
  {
   "cell_type": "code",
   "execution_count": 31,
   "metadata": {},
   "outputs": [
    {
     "name": "stdout",
     "output_type": "stream",
     "text": [
      "Output: 5\n"
     ]
    }
   ],
   "source": [
    "# Bài 3.1 – Tìm xác suất bệnh >= ngưỡng\n",
    "def find_first_greater_or_equal(arr, x):\n",
    "    left = 0\n",
    "    right = len(arr) - 1\n",
    "    result = -1\n",
    "    while left <= right:\n",
    "        mid = (left + right) // 2\n",
    "        if arr[mid] >= x:\n",
    "            result = mid\n",
    "            right = mid - 1\n",
    "        else:\n",
    "            left = mid + 1\n",
    "    return result\n",
    "\n",
    "probs = [0.12 , 0.23 , 0.35 , 0.47 , 0.59 , 0.61 , 0.74 ,0.81]\n",
    "print(f\"Output: {find_first_greater_or_equal(probs, 0.6)}\")\n",
    "\n"
   ]
  },
  {
   "cell_type": "code",
   "execution_count": 32,
   "metadata": {},
   "outputs": [
    {
     "name": "stdout",
     "output_type": "stream",
     "text": [
      "Output: 0.7\n"
     ]
    }
   ],
   "source": [
    "# Bài 3.2 – Tìm threshold có F1-score tốt nhất\n",
    "def binary_search_threshold(f1_scores, thresholds):\n",
    "    left = 0\n",
    "    right = len(f1_scores) - 1\n",
    "    while left <= right:\n",
    "        mid = (left + right) // 2\n",
    "        if f1_scores[mid][0] == thresholds:\n",
    "            return mid\n",
    "        elif f1_scores[mid][0] < thresholds:\n",
    "            left = mid + 1\n",
    "        else:\n",
    "            right = mid - 1\n",
    "    return -1\n",
    "f1_scores = [(0.1 , 0.6) , (0.2 , 0.65) , (0.3 , 0.7) , (0.4 ,0.68)]\n",
    "thresholds = 0.3\n",
    "print(f\"Output: {f1_scores[binary_search_threshold(f1_scores, thresholds)][1]}\")"
   ]
  },
  {
   "cell_type": "code",
   "execution_count": 33,
   "metadata": {},
   "outputs": [
    {
     "name": "stdout",
     "output_type": "stream",
     "text": [
      "True\n"
     ]
    }
   ],
   "source": [
    "# Bài 3.3 – Kiểm tra có ảnh tương đồng cao không\n",
    "def exists_similar_image(similarities, threshold):\n",
    "    left = 0 \n",
    "    right = len ( similarities ) - 1\n",
    "    while left <= right:\n",
    "        mid = (left + right) // 2\n",
    "        if similarities[mid] >= threshold:\n",
    "            return True\n",
    "        else:\n",
    "            left = mid + 1\n",
    "    return False\n",
    "\n",
    " # # Your code here ##\n",
    "    return False\n",
    "\n",
    "sims = [0.95 , 0.89 , 0.85 , 0.80 , 0.75] # desending order\n",
    "print(exists_similar_image(sims, 0.85))"
   ]
  },
  {
   "cell_type": "code",
   "execution_count": null,
   "metadata": {},
   "outputs": [],
   "source": []
  },
  {
   "cell_type": "code",
   "execution_count": null,
   "metadata": {},
   "outputs": [],
   "source": []
  },
  {
   "cell_type": "code",
   "execution_count": null,
   "metadata": {},
   "outputs": [],
   "source": []
  }
 ],
 "metadata": {
  "kernelspec": {
   "display_name": ".venv",
   "language": "python",
   "name": "python3"
  },
  "language_info": {
   "codemirror_mode": {
    "name": "ipython",
    "version": 3
   },
   "file_extension": ".py",
   "mimetype": "text/x-python",
   "name": "python",
   "nbconvert_exporter": "python",
   "pygments_lexer": "ipython3",
   "version": "3.12.3"
  }
 },
 "nbformat": 4,
 "nbformat_minor": 2
}
