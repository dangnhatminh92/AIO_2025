{
 "cells": [
  {
   "cell_type": "code",
   "execution_count": 3,
   "metadata": {},
   "outputs": [],
   "source": [
    "dataset = [\n",
    "    {\"name\": \"img1.png\", \"label\": \"benign\", \"blurriness\": 0.4, \"similarity\": 0.92},\n",
    "    \n",
    "    {\"name\": \"img2.png\", \"label\": None, \"blurriness\": 0.6, \"similarity\": 0.95},\n",
    "    \n",
    "    {\"name\": \"img3.png\", \"label\": \"benign\", \"blurriness\": 0.3, \"similarity\": 0.84},\n",
    "    \n",
    "    {\"name\": \"img4.png\", \"label\": None, \"blurriness\": 0.5, \"similarity\": 0.88}\n",
    "]"
   ]
  },
  {
   "cell_type": "code",
   "execution_count": 18,
   "metadata": {},
   "outputs": [
    {
     "name": "stdout",
     "output_type": "stream",
     "text": [
      "{'name': 'img2.png', 'label': None, 'blurriness': 0.6, 'similarity': 0.95}\n",
      "{'name': 'img4.png', 'label': None, 'blurriness': 0.5, 'similarity': 0.88}\n"
     ]
    }
   ],
   "source": [
    "def find_image_nolabel(arr):\n",
    "    index = []\n",
    "    for i,image in enumerate(arr):\n",
    "        if image[\"label\"] == None:\n",
    "            index.append(i)\n",
    "    return index\n",
    "result = find_image_nolabel(dataset)\n",
    "for i in result:\n",
    "    print(dataset[i])"
   ]
  },
  {
   "cell_type": "code",
   "execution_count": 24,
   "metadata": {},
   "outputs": [
    {
     "name": "stdout",
     "output_type": "stream",
     "text": [
      "[{'name': 'img3.png', 'label': 'benign', 'blurriness': 0.3, 'similarity': 0.84}, {'name': 'img1.png', 'label': 'benign', 'blurriness': 0.4, 'similarity': 0.92}, {'name': 'img4.png', 'label': None, 'blurriness': 0.5, 'similarity': 0.88}, {'name': 'img2.png', 'label': None, 'blurriness': 0.6, 'similarity': 0.95}]\n"
     ]
    }
   ],
   "source": [
    "def bubble_sort_blur(arr):\n",
    "    n = len(arr)\n",
    "    swapped = False\n",
    "    for i in range(n - 1):\n",
    "        for j in range(n - i - 1):\n",
    "            if arr[j][\"blurriness\"] > arr[j + 1][\"blurriness\"]:\n",
    "                swapped = True\n",
    "                arr[j], arr[j + 1] = arr[j + 1], arr[j]\n",
    "        if not swapped:\n",
    "            break\n",
    "    return arr\n",
    "result1 = bubble_sort_blur(dataset)\n",
    "print(result1)"
   ]
  },
  {
   "cell_type": "code",
   "execution_count": 46,
   "metadata": {},
   "outputs": [],
   "source": [
    "def binary_search_greater_than(arr, threshold):\n",
    "    arr_sorted = sorted(arr, key = lambda x: x[\"similarity\"])\n",
    "    left = 0\n",
    "    right = len(arr) - 1\n",
    "    result = -1\n",
    "    while left <= right:\n",
    "        mid = (left + right) // 2\n",
    "        if arr_sorted[mid][\"similarity\"] >= threshold:\n",
    "            result = mid\n",
    "            right = mid - 1\n",
    "        else:\n",
    "            left = mid + 1\n",
    "    if result == -1:\n",
    "        return []\n",
    "    return arr_sorted[result:]\n"
   ]
  },
  {
   "cell_type": "code",
   "execution_count": 47,
   "metadata": {},
   "outputs": [
    {
     "name": "stdout",
     "output_type": "stream",
     "text": [
      "[{'name': 'img1.png', 'label': 'benign', 'blurriness': 0.4, 'similarity': 0.92}, {'name': 'img2.png', 'label': None, 'blurriness': 0.6, 'similarity': 0.95}]\n"
     ]
    }
   ],
   "source": [
    "result2 = binary_search_greater_than(dataset, 0.9)\n",
    "\n",
    "print(result2)"
   ]
  },
  {
   "cell_type": "code",
   "execution_count": null,
   "metadata": {},
   "outputs": [],
   "source": []
  }
 ],
 "metadata": {
  "kernelspec": {
   "display_name": ".venv",
   "language": "python",
   "name": "python3"
  },
  "language_info": {
   "codemirror_mode": {
    "name": "ipython",
    "version": 3
   },
   "file_extension": ".py",
   "mimetype": "text/x-python",
   "name": "python",
   "nbconvert_exporter": "python",
   "pygments_lexer": "ipython3",
   "version": "3.12.3"
  }
 },
 "nbformat": 4,
 "nbformat_minor": 2
}
