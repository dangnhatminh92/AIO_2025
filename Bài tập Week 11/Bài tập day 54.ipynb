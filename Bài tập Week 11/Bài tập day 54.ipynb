{
 "cells": [
  {
   "cell_type": "code",
   "execution_count": 2,
   "metadata": {},
   "outputs": [],
   "source": [
    "import numpy as np"
   ]
  },
  {
   "cell_type": "code",
   "execution_count": 4,
   "metadata": {},
   "outputs": [],
   "source": [
    "# Bài 1: Tính kỳ vọng của biến rời rạc\n",
    "X = [2, 4, 6, 8]\n",
    "P = [0.1 , 0.3, 0.4, 0.2]"
   ]
  },
  {
   "cell_type": "code",
   "execution_count": 3,
   "metadata": {},
   "outputs": [],
   "source": [
    "def compute_E_X(X):\n",
    "    result = np.sum(np.dot(X, P))\n",
    "    return result"
   ]
  },
  {
   "cell_type": "code",
   "execution_count": 6,
   "metadata": {},
   "outputs": [
    {
     "name": "stdout",
     "output_type": "stream",
     "text": [
      "Xac suat ky vong la: 5.4\n"
     ]
    }
   ],
   "source": [
    "E_X = compute_E_X(X)\n",
    "print(f\"Xac suat ky vong la: {E_X}\")"
   ]
  },
  {
   "cell_type": "code",
   "execution_count": 9,
   "metadata": {},
   "outputs": [
    {
     "name": "stdout",
     "output_type": "stream",
     "text": [
      "expectation theory: 5.010409194824302\n",
      "expectation in real: 5.385164807134504\n"
     ]
    }
   ],
   "source": [
    "# Bài 2: Expectation từ phân phối chuẩn\n",
    "data = np. random.normal (5, 2, 10000)\n",
    "mu = 5\n",
    "variance = 2\n",
    "\n",
    "expectation = np.mean(data)\n",
    "print(f\"expectation theory: {expectation}\")\n",
    "\n",
    "expectation_real = np.sqrt(mu**2 + variance**2)\n",
    "print(f\"expectation in real: {expectation_real}\")"
   ]
  },
  {
   "cell_type": "code",
   "execution_count": 10,
   "metadata": {},
   "outputs": [
    {
     "name": "stdout",
     "output_type": "stream",
     "text": [
      "Expectation loss: 0.30809306971190853\n"
     ]
    }
   ],
   "source": [
    "# Bài 3: Kỳ vọng của loss function trong AI\n",
    "y_pred = np. array ([0.1 , 0.4 , 0.6 , 0.9])\n",
    "y_true = np. array ([0 , 0, 1, 1])\n",
    "\n",
    "loss = np.sum(y_true*np.log(y_pred) + (1 - y_true)*np.log(1 - y_pred)) * (-1 / len(y_pred))\n",
    "print(f\"Expectation loss: {loss}\")"
   ]
  },
  {
   "cell_type": "code",
   "execution_count": 11,
   "metadata": {},
   "outputs": [
    {
     "name": "stdout",
     "output_type": "stream",
     "text": [
      "Ky vong phan thuong: 4.5\n"
     ]
    }
   ],
   "source": [
    "# Bài 4: Kỳ vọng phần thưởng trong Reinforcement Learning\n",
    "np.random.seed(42)\n",
    "rewards = np.random.choice(np. arange (0, 11) , size =100 ,p =[0.05 , 0.1 , 0.1 , 0.15 , 0.1 , 0.1 , 0.1 , 0.1 , 0.05 , 0.1 , 0.05])\n",
    "\n",
    "expectation_reward = np.mean(rewards)\n",
    "print(f\"Ky vong phan thuong: {expectation_reward}\")"
   ]
  },
  {
   "cell_type": "code",
   "execution_count": 7,
   "metadata": {},
   "outputs": [
    {
     "name": "stdout",
     "output_type": "stream",
     "text": [
      "Kết quả Model 1: 0.29812302551854264\n",
      "Kết quả Model 2: 0.33650583350462826\n",
      "Model 1 tốt hơn Model 2\n"
     ]
    }
   ],
   "source": [
    "# Bài 5: So sánh kỳ vọng của hai mô hình AI\n",
    "model1 = np. array ([[0.2 , 0.5 , 0.3] ,[0.1 , 0.7 , 0.2]])\n",
    "model2 = np. array ([[0.3 , 0.4 , 0.3] ,[0.2 , 0.6 , 0.2]])\n",
    "labels = np. array ([1 , 1]) # ground truth\n",
    "\n",
    "def select_value(X, labels):\n",
    "    result = []\n",
    "    for i in range(len(X)):\n",
    "        result.append(X[i][labels[i]])\n",
    "    return result\n",
    "\n",
    "def compute_cross_entrophy(Y):\n",
    "    result = np.sum(Y * np.log(Y)) * (-1/ len(Y))\n",
    "    return result\n",
    "\n",
    "value_1 = select_value(model1, labels)\n",
    "value_2 = select_value(model2, labels)\n",
    "\n",
    "result_1 = compute_cross_entrophy(value_1)\n",
    "result_2 = compute_cross_entrophy(value_2)\n",
    "print(f\"Kết quả Model 1: {result_1}\\nKết quả Model 2: {result_2}\")\n",
    "\n",
    "if result_1 > result_2:\n",
    "    print(f\"Model 1 không tốt bằng Model 2\")\n",
    "else:\n",
    "    print(f\"Model 1 tốt hơn Model 2\")"
   ]
  },
  {
   "cell_type": "code",
   "execution_count": null,
   "metadata": {},
   "outputs": [],
   "source": []
  },
  {
   "cell_type": "code",
   "execution_count": null,
   "metadata": {},
   "outputs": [],
   "source": []
  },
  {
   "cell_type": "code",
   "execution_count": null,
   "metadata": {},
   "outputs": [],
   "source": []
  },
  {
   "cell_type": "code",
   "execution_count": null,
   "metadata": {},
   "outputs": [],
   "source": []
  },
  {
   "cell_type": "code",
   "execution_count": null,
   "metadata": {},
   "outputs": [],
   "source": []
  }
 ],
 "metadata": {
  "kernelspec": {
   "display_name": ".venv",
   "language": "python",
   "name": "python3"
  },
  "language_info": {
   "codemirror_mode": {
    "name": "ipython",
    "version": 3
   },
   "file_extension": ".py",
   "mimetype": "text/x-python",
   "name": "python",
   "nbconvert_exporter": "python",
   "pygments_lexer": "ipython3",
   "version": "3.12.3"
  }
 },
 "nbformat": 4,
 "nbformat_minor": 2
}
