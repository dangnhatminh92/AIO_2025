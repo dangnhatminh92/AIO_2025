{
 "cells": [
  {
   "cell_type": "code",
   "execution_count": 1,
   "metadata": {},
   "outputs": [],
   "source": [
    "import numpy as np"
   ]
  },
  {
   "cell_type": "code",
   "execution_count": 9,
   "metadata": {},
   "outputs": [
    {
     "name": "stdout",
     "output_type": "stream",
     "text": [
      "Expectation theory: 3.1999999999999997\n",
      "Variance : 1.96\n"
     ]
    }
   ],
   "source": [
    "# Bài 1: Tính phương sai rời rạc\n",
    "X = [1, 3, 5]\n",
    "P = [0.2, 0.5, 0.3]\n",
    "\n",
    "E_X = np.sum(np.dot(X,P))\n",
    "print(f\"Expectation theory: {E_X}\")\n",
    "\n",
    "\n",
    "var_X =  np.sum(np.dot(P , np.square(X - E_X)))\n",
    "print(f\"Variance : {var_X}\")"
   ]
  },
  {
   "cell_type": "code",
   "execution_count": 18,
   "metadata": {},
   "outputs": [
    {
     "name": "stdout",
     "output_type": "stream",
     "text": [
      "Varian theory: 4\n",
      "Variance samples : 3.8354554143404096, Variance population: 3.831619958926069\n"
     ]
    }
   ],
   "source": [
    "# Bài 2: Phân tích phương sai mẫu dữ liệu thực\n",
    "np.random.seed(42)\n",
    "var_theory = 4\n",
    "X = np.random.normal(loc = 0, scale = 2, size = 1000)\n",
    "\n",
    "\n",
    "var_samples = np.var(X, ddof =1)\n",
    "var_population = np.var(X)\n",
    "print(f\"Varian theory: {var_theory}\")\n",
    "print(f\"Variance samples : {var_samples}, Variance population: {var_population}\")"
   ]
  },
  {
   "cell_type": "code",
   "execution_count": 19,
   "metadata": {},
   "outputs": [
    {
     "name": "stdout",
     "output_type": "stream",
     "text": [
      "Mô hình a ổn định hơn\n"
     ]
    }
   ],
   "source": [
    "# Bài 3: So sánh độ ổn định giữa hai mô hình AI\n",
    "model_a_scores = np.array ([0.8 , 0.7 , 0.9 , 0.75 , 0.85])\n",
    "model_b_scores = np.array ([0.6 , 0.4 , 0.9 , 0.3 , 0.8])\n",
    "\n",
    "var_model_a = np.var(model_a_scores, ddof = 1)\n",
    "var_model_b = np.var(model_b_scores, ddof = 1)\n",
    "\n",
    "if var_model_a > var_model_b:\n",
    "    print(\"Mô hình b ổn định hơn\")\n",
    "else:\n",
    "    print(\"Mô hình a ổn định hơn\")"
   ]
  },
  {
   "cell_type": "code",
   "execution_count": 20,
   "metadata": {},
   "outputs": [
    {
     "name": "stdout",
     "output_type": "stream",
     "text": [
      "Variance : 2.5\n"
     ]
    }
   ],
   "source": [
    "# Bài 4: Phân tích phân tán ảnh đầu vào\n",
    "pixel_means = np. array ([122 , 120 , 119 , 123 , 121])\n",
    "\n",
    "var_pixel_means = np.var(pixel_means, ddof = 1)\n",
    "print(f\"Variance : {var_pixel_means}\")"
   ]
  },
  {
   "cell_type": "code",
   "execution_count": 21,
   "metadata": {},
   "outputs": [
    {
     "name": "stdout",
     "output_type": "stream",
     "text": [
      "Variance of rewards: 3.066666666666667\n"
     ]
    }
   ],
   "source": [
    "# Bài 5: Variance trong Reinforcement Learning\n",
    "rewards = np. array ([10 , 9, 8, 10, 7, 6, 9, 10, 5, 8])\n",
    "\n",
    "var_rewards = np.var(rewards, ddof = 1)\n",
    "print(f\"Variance of rewards: {var_rewards}\")"
   ]
  },
  {
   "cell_type": "code",
   "execution_count": null,
   "metadata": {},
   "outputs": [],
   "source": []
  }
 ],
 "metadata": {
  "kernelspec": {
   "display_name": ".venv",
   "language": "python",
   "name": "python3"
  },
  "language_info": {
   "codemirror_mode": {
    "name": "ipython",
    "version": 3
   },
   "file_extension": ".py",
   "mimetype": "text/x-python",
   "name": "python",
   "nbconvert_exporter": "python",
   "pygments_lexer": "ipython3",
   "version": "3.12.3"
  }
 },
 "nbformat": 4,
 "nbformat_minor": 2
}
