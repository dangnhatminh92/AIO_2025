{
 "cells": [
  {
   "cell_type": "code",
   "execution_count": 1,
   "metadata": {},
   "outputs": [],
   "source": [
    "import numpy as np"
   ]
  },
  {
   "cell_type": "code",
   "execution_count": 15,
   "metadata": {},
   "outputs": [],
   "source": [
    "def compute_correlation_coefficient(x, y):\n",
    "    x = np.array(x)\n",
    "    y = np.array(y)\n",
    "    numerator = np.sum((x - np.mean(x)) * (y- np.mean(y)))\n",
    "    denominator = np.sqrt(np.sum((x - np.mean(x))**2) * np.sum((y- np.mean(y))**2))\n",
    "    correlation_coefficient = numerator / denominator\n",
    "    return correlation_coefficient\n",
    "\n",
    "def show_result(result):\n",
    "    if result == 1:\n",
    "        print(f\"Tương quan tuyến tính hoàn hảo: {result}\")\n",
    "    elif result == -1:\n",
    "        print(f\"Tương quan tuyến tính âm hoàn hảo: {result}\")\n",
    "    elif result == 0:\n",
    "        print(\"Không có tương quan tuyến tính\")\n",
    "    else:\n",
    "        print(f\"Giá trị tương quan tuyến tính: {result}\")\n"
   ]
  },
  {
   "cell_type": "code",
   "execution_count": 12,
   "metadata": {},
   "outputs": [
    {
     "name": "stdout",
     "output_type": "stream",
     "text": [
      "Tương quan tuyến tính hoàn hảo: 1.0\n"
     ]
    }
   ],
   "source": [
    "# Bài 1. Tương quan tuyến tính hoàn hảo\n",
    "x = [1, 2, 3, 4, 5]\n",
    "y = [2, 4, 6, 8, 10]\n",
    "\n",
    "correlation_coefficient_xy = compute_correlation_coefficient(x, y)\n",
    "show_result(correlation_coefficient_xy)    "
   ]
  },
  {
   "cell_type": "code",
   "execution_count": 11,
   "metadata": {},
   "outputs": [
    {
     "name": "stdout",
     "output_type": "stream",
     "text": [
      "Tương quan tuyến tính âm hoàn hảo: -1.0\n"
     ]
    }
   ],
   "source": [
    "# Bài 2. Tương quan âm hoàn hảo\n",
    "x = [1, 2, 3, 4, 5]\n",
    "y = [10, 8, 6, 4, 2]\n",
    "\n",
    "correlation_coefficient_xy = compute_correlation_coefficient(x, y)\n",
    "show_result(correlation_coefficient_xy)\n"
   ]
  },
  {
   "cell_type": "code",
   "execution_count": 13,
   "metadata": {},
   "outputs": [
    {
     "name": "stdout",
     "output_type": "stream",
     "text": [
      "Giá trị tương quan tuyến tính: 0.9900317180760643\n"
     ]
    }
   ],
   "source": [
    "# Bài 4. Tương quan giữa đặc trưng và nhãn\n",
    "feature = [1.1, 1.9, 3.2, 4.5, 5.1] \n",
    "label = [1.0, 2.0, 3.0, 4.1, 5.3]\n",
    "\n",
    "correlation_coefficient_feature_label = compute_correlation_coefficient(feature, label)\n",
    "show_result(correlation_coefficient_feature_label)"
   ]
  },
  {
   "cell_type": "code",
   "execution_count": 14,
   "metadata": {},
   "outputs": [
    {
     "name": "stdout",
     "output_type": "stream",
     "text": [
      "Tương quan tuyến tính hoàn hảo: 1.0\n"
     ]
    }
   ],
   "source": [
    "# Bài 5. Tương quan trong bảng dữ liệu\n",
    "height = [150, 160, 170, 180, 190]\n",
    "weight = [50, 60, 70, 80, 90]\n",
    "\n",
    "correlation_coefficient_height_weight = compute_correlation_coefficient(height, weight)\n",
    "show_result(correlation_coefficient_height_weight)"
   ]
  },
  {
   "cell_type": "code",
   "execution_count": 17,
   "metadata": {},
   "outputs": [
    {
     "name": "stdout",
     "output_type": "stream",
     "text": [
      "Giá trị tương quan tuyến tính: 0.9974174463431612\n"
     ]
    }
   ],
   "source": [
    "# Bài 6. Embedding similarity\n",
    "embed_A = [0.3, 0.5, 0.7, 0.8]\n",
    "embed_B = [0.9, 1.4, 2.1, 2.4]\n",
    "\n",
    "similarity_AB = compute_correlation_coefficient(embed_A, embed_B)\n",
    "show_result(similarity_AB)"
   ]
  },
  {
   "cell_type": "code",
   "execution_count": 25,
   "metadata": {},
   "outputs": [
    {
     "name": "stdout",
     "output_type": "stream",
     "text": [
      "Giá trị tương quan tuyến tính: -0.24938375028217435\n"
     ]
    }
   ],
   "source": [
    "# Bài 7. Tương quan ngẫu nhiên\n",
    "x = np.random.random(100)\n",
    "y = np.random.random(100)\n",
    "\n",
    "correlation_coefficient_xy = compute_correlation_coefficient(x, y)\n",
    "show_result(correlation_coefficient_xy)"
   ]
  },
  {
   "cell_type": "code",
   "execution_count": 28,
   "metadata": {},
   "outputs": [
    {
     "name": "stdout",
     "output_type": "stream",
     "text": [
      "Giá trị tương quan tuyến tính: 0.9577242251257262\n"
     ]
    }
   ],
   "source": [
    "# Bài 8. Tương quan với nhiễu (noise)\n",
    "x = np.arange(100)\n",
    "y_clean = x\n",
    "y_noisy = y_clean + np.random.normal(0, 10, 100)\n",
    "\n",
    "correlation_coefficient_xy = compute_correlation_coefficient(x, y_noisy)\n",
    "show_result(correlation_coefficient_xy)"
   ]
  },
  {
   "cell_type": "code",
   "execution_count": 29,
   "metadata": {},
   "outputs": [
    {
     "name": "stdout",
     "output_type": "stream",
     "text": [
      "Tương quan tuyến tính hoàn hảo: 1.0\n"
     ]
    }
   ],
   "source": [
    "# Bài 9. Dữ liệu thời gian: nhiệt độ và doanh số\n",
    "temperature = [22, 24, 23, 25, 26]\n",
    "sales = [100, 110, 105, 115, 120]\n",
    "\n",
    "correlation_coefficient_temperature_sales = compute_correlation_coefficient(temperature, sales)\n",
    "show_result(correlation_coefficient_temperature_sales)"
   ]
  },
  {
   "cell_type": "code",
   "execution_count": 30,
   "metadata": {},
   "outputs": [],
   "source": [
    "def get_result(result,A,B):\n",
    "    if result == 1:\n",
    "        print(f\"{A} và {B} có tương quan tuyến tính hoàn hảo: {result}\")\n",
    "    elif result == -1:\n",
    "        print(f\"{A} và {B} có tương quan tuyến tính âm hoàn hảo: {result}\")\n",
    "    elif result == 0:\n",
    "        print(f\"{A} và {B} không có tương quan tuyến tính\")\n",
    "    else:\n",
    "        print(f\"Giá trị tương quan tuyến tính giữa {A} và {B}: {result}\")"
   ]
  },
  {
   "cell_type": "code",
   "execution_count": 32,
   "metadata": {},
   "outputs": [],
   "source": [
    "# Bài 10. Retrieval văn bản với TF-IDF + Pearson\n",
    "doc1 = \"deep learning for natural language processing\"\n",
    "doc2 = \"transformer models improve language understanding\"\n",
    "doc3 = \"convolutional neural networks for image classification\"\n",
    "query = \"language models for text understanding\""
   ]
  },
  {
   "cell_type": "code",
   "execution_count": 61,
   "metadata": {},
   "outputs": [],
   "source": [
    "# Convert to vector\n",
    "from csv import list_dialects\n",
    "\n",
    "\n",
    "def convert_to_vector(doc):\n",
    "    return doc.split()\n",
    "docs = [query, doc1, doc2, doc3]\n",
    "docs_vector = [convert_to_vector(doc) for doc in docs]\n",
    "\n",
    "\n",
    "\n",
    "vocab = list(set(word for doc in docs_vector for word in doc))"
   ]
  },
  {
   "cell_type": "code",
   "execution_count": 48,
   "metadata": {},
   "outputs": [],
   "source": [
    "def compute_tf(doc_vector, word):\n",
    "    return doc_vector.count(word) / len(doc_vector)\n",
    "def compute_idf(doc_vector, word):\n",
    "    return np.log(len(doc_vector) / sum(1 for doc in doc_vector if word in doc))\n",
    "def compute_tfidf(doc_vector, word):\n",
    "    return compute_tf(doc_vector, word) * compute_idf(doc_vector, word)\n",
    "def compute_tfidf_vector(doc, docs, vocab):\n",
    "    return [compute_tf(doc, word) * compute_idf(docs, word) for word in vocab]\n"
   ]
  },
  {
   "cell_type": "code",
   "execution_count": 62,
   "metadata": {},
   "outputs": [
    {
     "name": "stdout",
     "output_type": "stream",
     "text": [
      "[[0.         0.05753641 0.         0.         0.         0.05753641\n",
      "  0.         0.         0.27725887 0.13862944 0.         0.\n",
      "  0.13862944 0.         0.         0.        ]\n",
      " [0.23104906 0.04794701 0.23104906 0.23104906 0.         0.04794701\n",
      "  0.         0.23104906 0.         0.         0.         0.\n",
      "  0.         0.         0.         0.        ]\n",
      " [0.         0.05753641 0.         0.         0.27725887 0.\n",
      "  0.         0.         0.         0.13862944 0.27725887 0.\n",
      "  0.13862944 0.         0.         0.        ]\n",
      " [0.         0.         0.         0.         0.         0.04794701\n",
      "  0.23104906 0.         0.         0.         0.         0.23104906\n",
      "  0.         0.23104906 0.23104906 0.23104906]]\n"
     ]
    }
   ],
   "source": [
    "tfidf_vectors = np.array([compute_tfidf_vector(doc, docs_vector, vocab) for doc in docs_vector])\n",
    "\n",
    "print(tfidf_vectors)"
   ]
  },
  {
   "cell_type": "code",
   "execution_count": 66,
   "metadata": {},
   "outputs": [
    {
     "name": "stdout",
     "output_type": "stream",
     "text": [
      "Tương quan giữa query và doc 1: 1.0\n",
      "Tương quan giữa query và doc 2: -0.3100221079115968\n",
      "Tương quan giữa query và doc 3: 0.03867471072554377\n",
      "Tương quan giữa query và doc 4: -0.3673629299571967\n"
     ]
    }
   ],
   "source": [
    "query_vector = tfidf_vectors[0]\n",
    "for i, vector in enumerate(tfidf_vectors, start = 1):\n",
    "    result = compute_correlation_coefficient(query_vector, vector)\n",
    "    print(f\"Tương quan giữa query và doc {i}: {result}\")\n",
    "\n"
   ]
  }
 ],
 "metadata": {
  "kernelspec": {
   "display_name": ".venv",
   "language": "python",
   "name": "python3"
  },
  "language_info": {
   "codemirror_mode": {
    "name": "ipython",
    "version": 3
   },
   "file_extension": ".py",
   "mimetype": "text/x-python",
   "name": "python",
   "nbconvert_exporter": "python",
   "pygments_lexer": "ipython3",
   "version": "3.12.3"
  }
 },
 "nbformat": 4,
 "nbformat_minor": 2
}
