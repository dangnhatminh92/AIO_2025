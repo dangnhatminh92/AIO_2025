{
 "cells": [
  {
   "cell_type": "code",
   "execution_count": 1,
   "metadata": {},
   "outputs": [],
   "source": [
    "import numpy as np"
   ]
  },
  {
   "cell_type": "code",
   "execution_count": 4,
   "metadata": {},
   "outputs": [
    {
     "name": "stdout",
     "output_type": "stream",
     "text": [
      "['cat' 'bird' 'dog' 'dog' 'cat' 'cat' 'cat' 'bird' 'dog' 'dog' 'cat']\n"
     ]
    }
   ],
   "source": [
    "# Bài 1: Sinh Nhãn Phân Loại Ngẫu Nhiên\n",
    "np.random.seed(42)\n",
    "X = np.random.choice([\"cat\", \"dog\", \"bird\"], size=100, p = [0.4, 0.4, 0.2])\n",
    "print(f\"Muoi phan tu dau tien cua X: {X[:11]}\")"
   ]
  },
  {
   "cell_type": "code",
   "execution_count": 14,
   "metadata": {},
   "outputs": [],
   "source": [
    "def compute_variance(X):\n",
    "    result = np.sum((X - np.mean(X))**2) / (len(X) - 1)\n",
    "    return np.sqrt(result)"
   ]
  },
  {
   "cell_type": "code",
   "execution_count": 15,
   "metadata": {},
   "outputs": [
    {
     "name": "stdout",
     "output_type": "stream",
     "text": [
      "Mean cua noise_gaussian: 0.01933205582232549\n",
      "Variance cua noise_gaussian: 3.1105960806710398\n"
     ]
    }
   ],
   "source": [
    "# Bài 2: Sinh Noise Gaussian\n",
    "np.random.seed(42)\n",
    "noise_gaussian = np.random.normal(0, 1, size=(100,10))\n",
    "print(f\"Mean cua noise_gaussian: {np.mean(noise_gaussian)}\")\n",
    "print(f\"Variance cua noise_gaussian: {compute_variance(noise_gaussian)}\")"
   ]
  },
  {
   "cell_type": "code",
   "execution_count": 19,
   "metadata": {},
   "outputs": [
    {
     "name": "stdout",
     "output_type": "stream",
     "text": [
      "Xac suat duoc uoc luong: 0.682\n"
     ]
    }
   ],
   "source": [
    "# Bài 3: Ước Lượng Xác Suất Từ Phân Phối Chuẩn\n",
    "np.random.seed(42)\n",
    "X = np.random.normal(size=10000, loc=0, scale=1)\n",
    "count = np.sum((X > -1) & (X < 1))\n",
    "print(f\"Xac suat duoc uoc luong: {count / len(X)}\")"
   ]
  },
  {
   "cell_type": "code",
   "execution_count": 22,
   "metadata": {},
   "outputs": [],
   "source": [
    "def compute_pmf(X, label):\n",
    "    count = 0\n",
    "    for i in range(len(X)):\n",
    "        if X[i] == label:\n",
    "            count += 1\n",
    "    return count / len(X)"
   ]
  },
  {
   "cell_type": "code",
   "execution_count": 25,
   "metadata": {},
   "outputs": [
    {
     "name": "stdout",
     "output_type": "stream",
     "text": [
      "Phan phoi PMF: 0.319\n",
      "Phan phoi PMF: 0.482\n",
      "Phan phoi PMF: 0.199\n"
     ]
    }
   ],
   "source": [
    "# Bài 4: Mô Phỏng Phân Phối PMF\n",
    "np.random.seed(42)\n",
    "X = np.random.choice([\"positive\", \"neutral\", \"negative\"], size=1000, p=[0.3, 0.5, 0.2])\n",
    "print(f\"Phan phoi PMF: {compute_pmf(X, 'positive')}\")\n",
    "print(f\"Phan phoi PMF: {compute_pmf(X, 'neutral')}\")\n",
    "print(f\"Phan phoi PMF: {compute_pmf(X, 'negative')}\")"
   ]
  },
  {
   "cell_type": "code",
   "execution_count": 27,
   "metadata": {},
   "outputs": [
    {
     "name": "stdout",
     "output_type": "stream",
     "text": [
      " Sampled latent vector z: [ 0.49671415 -0.1382643   0.64768854  1.52302986 -0.23415337 -0.23413696\n",
      "  1.57921282  0.76743473 -0.46947439  0.54256004]\n"
     ]
    }
   ],
   "source": [
    "#Bài 5: Sampling Biến Tiềm Ẩn trong VAE\n",
    "np.random.seed(42)\n",
    "mu = np.zeros (10)\n",
    "sigma = np.ones (10)\n",
    "eps = np. random . normal(loc=0, scale=1, size =10)\n",
    "z = mu + sigma * eps\n",
    "print (\" Sampled latent vector z:\", z)"
   ]
  },
  {
   "cell_type": "code",
   "execution_count": null,
   "metadata": {},
   "outputs": [],
   "source": []
  },
  {
   "cell_type": "code",
   "execution_count": null,
   "metadata": {},
   "outputs": [],
   "source": []
  },
  {
   "cell_type": "code",
   "execution_count": null,
   "metadata": {},
   "outputs": [],
   "source": []
  }
 ],
 "metadata": {
  "kernelspec": {
   "display_name": ".venv",
   "language": "python",
   "name": "python3"
  },
  "language_info": {
   "codemirror_mode": {
    "name": "ipython",
    "version": 3
   },
   "file_extension": ".py",
   "mimetype": "text/x-python",
   "name": "python",
   "nbconvert_exporter": "python",
   "pygments_lexer": "ipython3",
   "version": "3.12.3"
  }
 },
 "nbformat": 4,
 "nbformat_minor": 2
}
