{
 "cells": [
  {
   "cell_type": "code",
   "execution_count": 2,
   "metadata": {},
   "outputs": [],
   "source": [
    "import numpy as np\n",
    "import pandas as pd"
   ]
  },
  {
   "cell_type": "code",
   "execution_count": 2,
   "metadata": {},
   "outputs": [
    {
     "name": "stdout",
     "output_type": "stream",
     "text": [
      "25\n"
     ]
    }
   ],
   "source": [
    "# Bài 1: Tạo một hàm lambda tính bình phương một số\n",
    "square_x = lambda x:x**2\n",
    "\n",
    "print(square_x(5))"
   ]
  },
  {
   "cell_type": "code",
   "execution_count": 3,
   "metadata": {},
   "outputs": [
    {
     "name": "stdout",
     "output_type": "stream",
     "text": [
      "True\n",
      "False\n"
     ]
    }
   ],
   "source": [
    "# Bài 2: Tạo hàm lambda kiểm tra xem một số có lớn hơn 10 không.\n",
    "check_number = lambda x: True if x > 10 else False\n",
    "print(check_number(15))\n",
    "print(check_number(5))"
   ]
  },
  {
   "cell_type": "code",
   "execution_count": 4,
   "metadata": {},
   "outputs": [
    {
     "name": "stdout",
     "output_type": "stream",
     "text": [
      "[2, 6, 10, 14]\n"
     ]
    }
   ],
   "source": [
    "# Bài 3: Dùng map và lambda để nhân đôi từng phần tử trong list [1, 3, 5, 7].\n",
    "a_list = [1, 3, 5, 7]\n",
    "new_list = list(map(lambda x: x + x, a_list))\n",
    "print(new_list)"
   ]
  },
  {
   "cell_type": "code",
   "execution_count": 6,
   "metadata": {},
   "outputs": [
    {
     "name": "stdout",
     "output_type": "stream",
     "text": [
      "[2, 4, 6]\n"
     ]
    }
   ],
   "source": [
    "# Bài 4: Dùng filter và lambda để lọc ra các số chẵn trong list [1, 2, 3, 4, 5, 6].\n",
    "b_list = [1, 2, 3, 4, 5, 6]\n",
    "\n",
    "filtered_list = list(filter(lambda x: x % 2 == 0, b_list))\n",
    "print(filtered_list)"
   ]
  },
  {
   "cell_type": "code",
   "execution_count": 7,
   "metadata": {},
   "outputs": [
    {
     "name": "stdout",
     "output_type": "stream",
     "text": [
      "[('John', 80), ('Dave', 90), ('Jane', 95)]\n"
     ]
    }
   ],
   "source": [
    "# Bài 5: Sắp xếp danh sách các tuple theo phần tử thứ hai dùng lambda.\n",
    "students = [('John', 80) , ('Jane' , 95) , ('Dave' , 90)]\n",
    "\n",
    "new_students = sorted(students, key = lambda x: x[1])\n",
    "\n",
    "print(new_students)"
   ]
  },
  {
   "cell_type": "code",
   "execution_count": 9,
   "metadata": {},
   "outputs": [
    {
     "name": "stdout",
     "output_type": "stream",
     "text": [
      "5\n"
     ]
    }
   ],
   "source": [
    "# Bài 6\n",
    "def calculator(op):\n",
    "    if op == '+':\n",
    "        return lambda x, y: x + y\n",
    "    elif op == '-':\n",
    "        return lambda x, y: x - y\n",
    "    elif op == '*':\n",
    "        return lambda x, y: x * y\n",
    "    elif op == '/':\n",
    "        return lambda x, y: x / y\n",
    "    \n",
    "sub01= calculator('-')\n",
    "print(sub01(10, 5))"
   ]
  },
  {
   "cell_type": "code",
   "execution_count": null,
   "metadata": {},
   "outputs": [],
   "source": []
  }
 ],
 "metadata": {
  "kernelspec": {
   "display_name": ".venv",
   "language": "python",
   "name": "python3"
  },
  "language_info": {
   "codemirror_mode": {
    "name": "ipython",
    "version": 3
   },
   "file_extension": ".py",
   "mimetype": "text/x-python",
   "name": "python",
   "nbconvert_exporter": "python",
   "pygments_lexer": "ipython3",
   "version": "3.12.3"
  }
 },
 "nbformat": 4,
 "nbformat_minor": 2
}
